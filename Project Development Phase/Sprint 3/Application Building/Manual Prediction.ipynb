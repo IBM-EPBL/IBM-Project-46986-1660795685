{
  "nbformat": 4,
  "nbformat_minor": 0,
  "metadata": {
    "colab": {
      "provenance": []
    },
    "kernelspec": {
      "name": "python3",
      "display_name": "Python 3"
    },
    "language_info": {
      "name": "python"
    }
  },
  "cells": [
    {
      "cell_type": "code",
      "execution_count": 1,
      "metadata": {
        "id": "puWHYUPm7719"
      },
      "outputs": [],
      "source": [
        "from copyreg import pickle\n",
        "from io import StringIO\n",
        "import pandas as pd\n",
        "import numpy as np\n",
        "from sklearn.linear_model import LogisticRegression\n",
        "import pickle"
      ]
    },
    {
      "cell_type": "code",
      "source": [
        "file = open(\"/content/engine_model.sav\",'rb')\n",
        "model = pickle.load(file)\n",
        "file.close()\n",
        "\n",
        "file = open(\"/content/engine_model.sav\",'rb')\n",
        "rul_data = pickle.load(file)\n",
        "file.close()\n",
        "\n",
        "\n",
        "\n",
        "dt =  [1, 7, -0.0000, 0.0002, 100.0 , 518.67, 642.11, 1583.34, 1404.84, 14.62, 21.61, 553.89, 2388.05, 9051.39, 1.30, 47.31, 522.01, 2388.06, 8134.97, 8.3914, 0.03, 391, 2388, 100.00, 38.85, 23.3952]\n",
        "print(len(dt))"
      ],
      "metadata": {
        "colab": {
          "base_uri": "https://localhost:8080/"
        },
        "id": "B0wqZao_8DRb",
        "outputId": "430a44a5-b2b6-47da-b3ed-7c8f5949a171"
      },
      "execution_count": 5,
      "outputs": [
        {
          "output_type": "stream",
          "name": "stdout",
          "text": [
            "26\n"
          ]
        }
      ]
    },
    {
      "cell_type": "code",
      "source": [
        "def predict(data):\n",
        "    try:\n",
        "        col_name = ['id','cycle','set1','set2','set3','s1','s2','s3','s4','s5','s6','s7','s8']+['s9','s10','s11','s12','s13','s14','s14','s15','s16','s17','s18','s19','s20']\n",
        "        test_dataset = pd.DataFrame([data],columns=col_name)\n",
        "        rul=pd.DataFrame(test_dataset.groupby(\"id\")['cycle'].max()).reset_index()\n",
        "        rul.columns = ['id','max']\n",
        "        truth_ds['rtf']=truth_ds['more']+rul[\"max\"]\n",
        "        truth_ds.head()\n",
        "        truth_ds['rtf']=truth_ds['more']+rul[\"max\"]\n",
        "        test_dataset=test_dataset.merge(truth_ds, on= ['id'], how= \"left\")\n",
        "        test_dataset[ 'ttf']=test_dataset['rtf'] - test_dataset['cycle']\n",
        "        test_dataset.drop ('rtf', axis=1, inplace=True)\n",
        "        df_test = test_dataset.copy()\n",
        "        period = 30\n",
        "        df_test['label_bc'] = df_test ['ttf'].apply(lambda x: 1 if x <= period else 0)\n",
        "        df_test = df_test.dropna()\n",
        "        if len(df_test.index) == 0 :\n",
        "            return True\n",
        "        x_test = df_test.iloc[ : , : -2].values\n",
        "        y_pred = model.predict(x_test)\n",
        "        return True if y_pred[0] else False\n",
        "    except:\n",
        "        return True"
      ],
      "metadata": {
        "id": "DPH4coYC9s5E"
      },
      "execution_count": 6,
      "outputs": []
    },
    {
      "cell_type": "code",
      "source": [
        "predict(dt)"
      ],
      "metadata": {
        "colab": {
          "base_uri": "https://localhost:8080/"
        },
        "id": "KBhJiprW9w3s",
        "outputId": "a88e326b-1017-4937-b5e2-1cf128029bd7"
      },
      "execution_count": 7,
      "outputs": [
        {
          "output_type": "execute_result",
          "data": {
            "text/plain": [
              "True"
            ]
          },
          "metadata": {},
          "execution_count": 7
        }
      ]
    },
    {
      "cell_type": "code",
      "source": [
        "True"
      ],
      "metadata": {
        "colab": {
          "base_uri": "https://localhost:8080/"
        },
        "id": "IlIL_0sG9zi_",
        "outputId": "0c3f619a-5f65-4f30-f5ba-01f9785fa888"
      },
      "execution_count": 8,
      "outputs": [
        {
          "output_type": "execute_result",
          "data": {
            "text/plain": [
              "True"
            ]
          },
          "metadata": {},
          "execution_count": 8
        }
      ]
    }
  ]
}