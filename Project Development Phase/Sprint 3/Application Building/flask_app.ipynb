{
  "nbformat": 4,
  "nbformat_minor": 0,
  "metadata": {
    "colab": {
      "provenance": []
    },
    "kernelspec": {
      "name": "python3",
      "display_name": "Python 3"
    },
    "language_info": {
      "name": "python"
    }
  },
  "cells": [
    {
      "cell_type": "code",
      "execution_count": 1,
      "metadata": {
        "id": "pq3SlZy_6vOl"
      },
      "outputs": [],
      "source": [
        "import numpy as np\n",
        "from flask import Flask, request, jsonify, render_template\n",
        "import joblib\n",
        "import random"
      ]
    },
    {
      "cell_type": "code",
      "source": [
        "app = Flask(__name__)"
      ],
      "metadata": {
        "id": "vIKQv2k967CD"
      },
      "execution_count": 2,
      "outputs": []
    },
    {
      "cell_type": "code",
      "source": [
        "@app.route('/')\n",
        "def index():\n",
        "    return render_template('/content/index.html')"
      ],
      "metadata": {
        "id": "a10h0Pmz7AN6"
      },
      "execution_count": 3,
      "outputs": []
    },
    {
      "cell_type": "code",
      "source": [
        "@app.route('/result', methods=['POST'])\n",
        "def result():\n",
        "    try:\n",
        "        if request.method == 'POST':\n",
        "            l=[]\n",
        "            l.append(float(request.form['id']))\n",
        "            l.append(float(request.form['cycle']))\n",
        "            l.append(float(request.form['set1']))\n",
        "            l.append(float(request.form['set2']))\n",
        "            l.append(float(request.form['set3']))\n",
        "            l.append(float(request.form['s1']))\n",
        "            l.append(float(request.form['s2']))\n",
        "            l.append(float(request.form['s3']))\n",
        "            l.append(float(request.form['s4']))\n",
        "            l.append(float(request.form['s5']))\n",
        "            l.append(float(request.form['s6']))\n",
        "            l.append(float(request.form['s7']))\n",
        "            l.append(float(request.form['s8']))\n",
        "            l.append(float(request.form['s9']))\n",
        "            l.append(float(request.form['s10']))\n",
        "            l.append(float(request.form['s11']))\n",
        "            l.append(float(request.form['s12']))\n",
        "            l.append(float(request.form['s13']))\n",
        "            l.append(float(request.form['s14']))\n",
        "            l.append(float(request.form['s15']))\n",
        "            l.append(float(request.form['s16']))\n",
        "            l.append(float(request.form['s17']))\n",
        "            l.append(float(request.form['s18']))\n",
        "            l.append(float(request.form['s19']))\n",
        "            l.append(float(request.form['s20']))\n",
        "            l.append(float(request.form['s21']))\n",
        "            print(l)\n",
        "            if predict(l):\n",
        "                return render_template('/content/result.html',data=\"problem\")\n",
        "            else:\n",
        "                return render_template('/content/result.html',data=\"normal\")\n",
        "    except:\n",
        "        return render_template('/content/result.html',data=\"error\")"
      ],
      "metadata": {
        "id": "W2m6o58w7E0y"
      },
      "execution_count": 4,
      "outputs": []
    },
    {
      "cell_type": "code",
      "source": [
        "runfile"
      ],
      "metadata": {
        "colab": {
          "base_uri": "https://localhost:8080/"
        },
        "id": "FS7ThOYV7MKh",
        "outputId": "b85c7469-b9cb-43ba-f9f6-ba0447019ad6"
      },
      "execution_count": 5,
      "outputs": [
        {
          "output_type": "execute_result",
          "data": {
            "text/plain": [
              "<function _pydev_bundle.pydev_umd.runfile(filename, args=None, wdir=None, namespace=None)>"
            ]
          },
          "metadata": {},
          "execution_count": 5
        }
      ]
    }
  ]
}